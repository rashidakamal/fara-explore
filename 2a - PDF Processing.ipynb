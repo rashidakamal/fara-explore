{
 "cells": [
  {
   "cell_type": "code",
   "execution_count": 1,
   "metadata": {},
   "outputs": [],
   "source": [
    "from PIL import Image \n",
    "import pytesseract \n",
    "import sys \n",
    "from pdf2image import convert_from_path \n",
    "import os "
   ]
  },
  {
   "cell_type": "code",
   "execution_count": 2,
   "metadata": {},
   "outputs": [],
   "source": [
    "filepaths = [\n",
    "            \"interesting/1995-Supplemental-Statement-20190308-29/\",\n",
    "            \"interesting/2110-Supplemental-Statement-20190524-29/\",\n",
    "            \"interesting/2165-Supplemental-Statement-20190131-30/\",\n",
    "            \"interesting/2414-Supplemental-Statement-20191022-30/\",\n",
    "            \"interesting/2987-Supplemental-Statement-20190701-20/\",\n",
    "            \"interesting/4364-Supplemental-Statement-20190529-34/\",\n",
    "            \"interesting/5198-Supplemental-Statement-20190830-28/\",\n",
    "            \"interesting/5342-Supplemental-Statement-20180606-29/\",\n",
    "            \"interesting/5931-Supplemental-Statement-20181130-20/\",\n",
    "            \"interesting/6187-Supplemental-Statement-20190423-14/\",\n",
    "            \"interesting/6236-Supplemental-Statement-20190304-9/\",\n",
    "            \"interesting/6460-Supplemental-Statement-20191030-5/\",\n",
    "            \"interesting/6505-Supplemental-Statement-20190307-2/\",\n",
    "            \"interesting/6558-Supplemental-Statement-20190628-2/\",\n",
    "            \"interesting/6567-Supplemental-Statement-20190301-1/\",\n",
    "            \"interesting/6585-Supplemental-Statement-20190930-2/\",\n",
    "            \"interesting/6635-Supplemental-Statement-20190911-1/\",\n",
    "            \"interesting/6641-Supplemental-Statement-20190930-1/\",\n",
    "            \"interesting/6652-Supplemental-Statement-20190530-2/\",\n",
    "            \"interesting/6652-Supplemental-Statement-20190530-5/\"\n",
    "           ]"
   ]
  },
  {
   "cell_type": "code",
   "execution_count": 3,
   "metadata": {
    "scrolled": true
   },
   "outputs": [
    {
     "data": {
      "text/plain": [
       "20"
      ]
     },
     "execution_count": 3,
     "metadata": {},
     "output_type": "execute_result"
    }
   ],
   "source": [
    "len(filepaths)"
   ]
  },
  {
   "cell_type": "code",
   "execution_count": 9,
   "metadata": {},
   "outputs": [],
   "source": [
    "for folder in filepaths:\n",
    "    \n",
    "    pdffile = folder + folder.split(\"/\")[1] + \".pdf\"\n",
    "    pages = convert_from_path(pdffile, 500) \n",
    "\n",
    "    image_counter = 1\n",
    "    for page in pages: \n",
    "  \n",
    "        filename = folder + \"page_\"+str(image_counter)+\".jpg\"\n",
    "        page.save(filename, 'JPEG') \n",
    "        image_counter = image_counter + 1\n",
    "        \n",
    "    filelimit = image_counter-1\n",
    "    outfile = folder + \"out_text.txt\"\n",
    "    f = open(outfile, \"a\") \n",
    "    text = \"\"\n",
    "    \n",
    "    # pages only get interesting after page 10 of supplemental form\n",
    "    for i in range(10, filelimit + 1):\n",
    "        filename = folder + \"page_\"+str(i)+\".jpg\"\n",
    "\n",
    "        # text processing\n",
    "        text = str(((pytesseract.image_to_string(Image.open(filename))))) \n",
    "\n",
    "        # text \n",
    "        text = text.replace('-\\n', '')     \n",
    "\n",
    "        # Finally, write the processed text to the file. \n",
    "        f.write(text)\n",
    "\n",
    "    f.close() "
   ]
  },
  {
   "cell_type": "code",
   "execution_count": null,
   "metadata": {},
   "outputs": [],
   "source": []
  }
 ],
 "metadata": {
  "kernelspec": {
   "display_name": "Python 3",
   "language": "python",
   "name": "python3"
  },
  "language_info": {
   "codemirror_mode": {
    "name": "ipython",
    "version": 3
   },
   "file_extension": ".py",
   "mimetype": "text/x-python",
   "name": "python",
   "nbconvert_exporter": "python",
   "pygments_lexer": "ipython3",
   "version": "3.7.5"
  }
 },
 "nbformat": 4,
 "nbformat_minor": 2
}
